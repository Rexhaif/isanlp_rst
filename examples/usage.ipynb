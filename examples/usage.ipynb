{
 "cells": [
  {
   "cell_type": "code",
   "execution_count": null,
   "metadata": {},
   "outputs": [],
   "source": [
    "! pip install -U git+https://github.com/IINemo/isanlp.git@discourse"
   ]
  },
  {
   "cell_type": "code",
   "execution_count": 1,
   "metadata": {},
   "outputs": [],
   "source": [
    "from isanlp import PipelineCommon\n",
    "from isanlp.processor_remote import ProcessorRemote\n",
    "from isanlp.ru.processor_mystem import ProcessorMystem\n",
    "from isanlp.ru.converter_mystem_to_ud import ConverterMystemToUd\n",
    "\n",
    "SERVER = ''  # put the address here\n",
    "address_syntax = (SERVER, 3344)\n",
    "address_rst = (SERVER, 3335)\n",
    "\n",
    "ppl = PipelineCommon([\n",
    "    (ProcessorRemote(address_syntax[0], address_syntax[1], '0'),\n",
    "     ['text'],\n",
    "     {'sentences': 'sentences',\n",
    "      'tokens': 'tokens',\n",
    "      'lemma': 'lemma',\n",
    "      'syntax_dep_tree': 'syntax_dep_tree',\n",
    "      'postag': 'ud_postag'}),\n",
    "    (ProcessorMystem(delay_init=False),\n",
    "     ['tokens', 'sentences'],\n",
    "     {'postag': 'postag'}),\n",
    "    (ConverterMystemToUd(),\n",
    "     ['postag'],\n",
    "     {'morph': 'morph',\n",
    "      'postag': 'postag'}),\n",
    "    (ProcessorRemote(address_rst[0], address_rst[1], 'default'),\n",
    "     ['text', 'tokens', 'sentences', 'postag', 'morph', 'lemma', 'syntax_dep_tree'],\n",
    "     {'rst': 'rst'})\n",
    "])"
   ]
  },
  {
   "cell_type": "code",
   "execution_count": 2,
   "metadata": {},
   "outputs": [],
   "source": [
    "text = (\n",
    "\"Новости о грядущей эмиссии в США обвалили доллар и подняли цену золота. При этом рост количества \"\n",
    "\"долларов пока не зафиксирован. Со швейцарским франком ситуация противоположная: стало известно, ч\"\n",
    "\"то в феврале денежная масса Швейцарии увеличилась на 3.5%, однако биржевой курс франка и его покуп\"\n",
    "\"ательная способность за неделю выросли.\"\n",
    ")"
   ]
  },
  {
   "cell_type": "code",
   "execution_count": 3,
   "metadata": {},
   "outputs": [
    {
     "name": "stdout",
     "output_type": "stream",
     "text": [
      "CPU times: user 17.1 ms, sys: 8.14 ms, total: 25.2 ms\n",
      "Wall time: 6.55 s\n"
     ]
    }
   ],
   "source": [
    "%%time\n",
    "\n",
    "result = ppl(text)"
   ]
  },
  {
   "cell_type": "code",
   "execution_count": 4,
   "metadata": {
    "scrolled": false
   },
   "outputs": [
    {
     "data": {
      "text/plain": [
       "[<isanlp.annotation_rst.DiscourseUnit at 0x7f5a741bc150>]"
      ]
     },
     "execution_count": 4,
     "metadata": {},
     "output_type": "execute_result"
    }
   ],
   "source": [
    "result['rst']"
   ]
  },
  {
   "cell_type": "code",
   "execution_count": 5,
   "metadata": {
    "scrolled": true
   },
   "outputs": [
    {
     "data": {
      "text/plain": [
       "{'id': 10,\n",
       " 'left': <isanlp.annotation_rst.DiscourseUnit at 0x7f5a741bbd50>,\n",
       " 'right': <isanlp.annotation_rst.DiscourseUnit at 0x7f5a741bc090>,\n",
       " 'relation': 'comparison',\n",
       " 'nuclearity': 'NN',\n",
       " 'proba': 0.3214432830073155,\n",
       " 'start': 0,\n",
       " 'end': 331,\n",
       " 'text': 'Новости о грядущей эмиссии в США обвалили доллар и подняли цену золота. При этом рост количества долларов пока не зафиксирован. Со швейцарским франком ситуация противоположная: стало известно, что в феврале денежная масса Швейцарии увеличилась на 3.5%, однако биржевой курс франка и его покупательная способность за неделю выросли.'}"
      ]
     },
     "execution_count": 5,
     "metadata": {},
     "output_type": "execute_result"
    }
   ],
   "source": [
    "vars(result['rst'][0])"
   ]
  },
  {
   "cell_type": "code",
   "execution_count": 6,
   "metadata": {},
   "outputs": [],
   "source": [
    "def extr_pairs(tree, text):\n",
    "    pp = []\n",
    "    if tree.left:\n",
    "        pp.append([text[tree.left.start:tree.left.end], text[tree.right.start:tree.right.end], tree.relation, tree.nuclearity])\n",
    "        pp += extr_pairs(tree.left, text)\n",
    "        pp += extr_pairs(tree.right, text)\n",
    "    return pp"
   ]
  },
  {
   "cell_type": "code",
   "execution_count": 7,
   "metadata": {},
   "outputs": [
    {
     "data": {
      "text/plain": [
       "[['Новости о грядущей эмиссии в США обвалили доллар и подняли цену золота. При этом рост количества долларов пока не зафиксирован.',\n",
       "  'Со швейцарским франком ситуация противоположная: стало известно, что в феврале денежная масса Швейцарии увеличилась на 3.5%, однако биржевой курс франка и его покупательная способность за неделю выросли.',\n",
       "  'comparison',\n",
       "  'NN'],\n",
       " ['Новости о грядущей эмиссии в США обвалили доллар и подняли цену золота.',\n",
       "  'При этом рост количества долларов пока не зафиксирован.',\n",
       "  'elaboration',\n",
       "  'NS'],\n",
       " ['Новости о грядущей эмиссии в США обвалили доллар',\n",
       "  'и подняли цену золота.',\n",
       "  'joint',\n",
       "  'NN'],\n",
       " ['Со швейцарским франком ситуация противоположная:',\n",
       "  'стало известно, что в феврале денежная масса Швейцарии увеличилась на 3.5%, однако биржевой курс франка и его покупательная способность за неделю выросли.',\n",
       "  'preparation',\n",
       "  'SN'],\n",
       " ['стало известно, что в феврале денежная масса Швейцарии увеличилась на 3.5%,',\n",
       "  'однако биржевой курс франка и его покупательная способность за неделю выросли.',\n",
       "  'contrast',\n",
       "  'NN']]"
      ]
     },
     "execution_count": 7,
     "metadata": {},
     "output_type": "execute_result"
    }
   ],
   "source": [
    "extr_pairs(result['rst'][0], result['text'])"
   ]
  },
  {
   "cell_type": "code",
   "execution_count": 8,
   "metadata": {},
   "outputs": [],
   "source": [
    "import sys\n",
    "sys.path.append('../')\n",
    "sys.path.append('../../')\n",
    "\n",
    "from _isanlp_rst.src.isanlp_rst.export.to_rs3 import ForestExporter\n",
    "\n",
    "exporter = ForestExporter(encoding='utf8')\n",
    "exporter(result['rst'], 'example.rs3')"
   ]
  },
  {
   "cell_type": "markdown",
   "metadata": {},
   "source": [
    "Output:\n",
    "\n",
    "![example.rs3](example.rs3.png)"
   ]
  }
 ],
 "metadata": {
  "kernelspec": {
   "display_name": "Python 3",
   "language": "python",
   "name": "python3"
  },
  "language_info": {
   "codemirror_mode": {
    "name": "ipython",
    "version": 3
   },
   "file_extension": ".py",
   "mimetype": "text/x-python",
   "name": "python",
   "nbconvert_exporter": "python",
   "pygments_lexer": "ipython3",
   "version": "3.7.4"
  }
 },
 "nbformat": 4,
 "nbformat_minor": 2
}
