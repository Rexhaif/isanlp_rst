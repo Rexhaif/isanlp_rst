{
 "cells": [
  {
   "cell_type": "code",
   "execution_count": null,
   "metadata": {},
   "outputs": [],
   "source": [
    "import numpy as np\n",
    "import pandas as pd"
   ]
  },
  {
   "cell_type": "code",
   "execution_count": null,
   "metadata": {},
   "outputs": [],
   "source": [
    "baseline = np.array([85.71428571, 76.45051195,  0.        , 42.5       , 25.3968254 ,\n",
    "       15.15151515, 53.33333333, 59.60264901, 52.07100592, 51.34328358,\n",
    "       51.42857143,  5.55555556, 30.1369863 , 19.35483871, 57.11206897,\n",
    "       27.39726027, 78.14569536, 42.10526316, 25.        , 38.0952381 ,\n",
    "       21.53846154, 36.36363636, 40.62713572, 48.3895627 ])[:-1]\n",
    "\n",
    "baseline_af = np.array([87.75510204, 80.83623693,  4.65116279, 38.78787879, \n",
    "       36.92307692, 11.11111111, 42.10526316, 54.54545455, 64.1509434 , \n",
    "       61.73469388, 55.7480315 , 11.76470588, 32.33082707, 23.07692308, \n",
    "       57.0327553 , 32.3699422 , 74.84662577, 70.        , 25.        , \n",
    "       40.90909091, 32.18390805, 34.21052632, 44.18519362, 51.48235639])[:-1]\n",
    "\n",
    "bimpm = np.array([90.32258065, 81.48148148,  0.        , 36.9047619 , 33.9100346 ,\n",
    "       13.79310345, 45.45454545, 60.        , 66.27218935, 62.46851385,\n",
    "       50.57034221,  3.38983051, 33.55704698, 34.7826087 , 54.86238532,\n",
    "       20.68965517, 72.82608696, 75.55555556, 40.        , 41.53846154,\n",
    "       29.90654206, 33.76623377, 44.63872543, 49.57254907])[:-1]\n",
    "\n",
    "ensemble = np.array([87.75510204, 83.21167883,  0.        , 43.75      , 42.62295082,\n",
    "       14.92537313, 38.0952381 , 67.11409396, 69.04761905, 64.67661692,\n",
    "       57.96862097, 16.66666667, 36.29893238, 40.        , 59.23149016,\n",
    "       31.03448276, 75.        , 79.06976744, 35.71428571, 53.54330709,\n",
    "       29.21348315, 33.76623377, 48.12299741, 54.42778087])[:-1]"
   ]
  },
  {
   "cell_type": "code",
   "execution_count": null,
   "metadata": {},
   "outputs": [],
   "source": [
    "from matplotlib import pyplot as plt\n",
    "plt.rcParams[\"figure.figsize\"] = [6, 8]\n",
    "\n",
    "%config InlineBackend.figure_format = 'svg'"
   ]
  },
  {
   "cell_type": "code",
   "execution_count": null,
   "metadata": {},
   "outputs": [],
   "source": [
    "plotdata = pd.DataFrame({\n",
    "    \"baseline\":baseline,\n",
    "    \"baseline+AF\":baseline_af,\n",
    "    \"BiMPM\":bimpm,\n",
    "    \"Ensemble\":ensemble\n",
    "    }, \n",
    "    index=['attribution_NS', 'attribution_SN', 'background_NS',\n",
    "       'cause-effect_NS', 'cause-effect_SN',\n",
    "       'comparison_NN', 'concession_NS', 'condition_NS', 'condition_SN',\n",
    "       'contrast_NN', 'elaboration_NS', 'evidence_NS',\n",
    "       'interpretation-evaluation_NS', 'interpretation-evaluation_SN',\n",
    "       'joint_NN', 'preparation_SN', 'purpose_NS', 'purpose_SN',\n",
    "       'restatement_NN', 'same-unit_NN', 'sequence_NN', 'solutionhood_SN'] + ['macro average',]\n",
    ")\n",
    "\n",
    "plotdata.plot.barh(width=.65)\n",
    "plt.xlabel(\"F1\")\n",
    "plt.ylabel(\"Relation\")\n",
    "plt.gca().invert_yaxis()\n",
    "plt.savefig(fname='fig_relations_eval.pdf', format='pdf', bbox_inches='tight')"
   ]
  }
 ],
 "metadata": {
  "kernelspec": {
   "display_name": "Python 3",
   "language": "python",
   "name": "python3"
  },
  "language_info": {
   "codemirror_mode": {
    "name": "ipython",
    "version": 3
   },
   "file_extension": ".py",
   "mimetype": "text/x-python",
   "name": "python",
   "nbconvert_exporter": "python",
   "pygments_lexer": "ipython3",
   "version": "3.7.4"
  }
 },
 "nbformat": 4,
 "nbformat_minor": 4
}
