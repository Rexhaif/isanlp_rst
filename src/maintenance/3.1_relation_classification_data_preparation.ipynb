{
 "cells": [
  {
   "cell_type": "markdown",
   "metadata": {},
   "source": [
    "## Rhetorical relations classification used in tree building: Step 1. Data preparation\n",
    "\n",
    "Make train/dev/test splitting, save in the corresponding .pkl files\n",
    "\n",
    "Output:\n",
    " - ``data_labeling/*``"
   ]
  },
  {
   "cell_type": "code",
   "execution_count": null,
   "metadata": {
    "scrolled": true
   },
   "outputs": [],
   "source": [
    "%load_ext autoreload\n",
    "%autoreload 2"
   ]
  },
  {
   "cell_type": "code",
   "execution_count": null,
   "metadata": {
    "scrolled": false
   },
   "outputs": [],
   "source": [
    "from utils.train_test_split import split_train_dev_test\n",
    "\n",
    "train, dev, test = split_train_dev_test('./data')"
   ]
  },
  {
   "cell_type": "code",
   "execution_count": null,
   "metadata": {},
   "outputs": [],
   "source": [
    "import pandas as pd\n",
    "from utils.file_reading import read_gold\n",
    "\n",
    "\n",
    "random_state = 45\n",
    "\n",
    "train_samples = []\n",
    "test_samples = []\n",
    "dev_samples = []\n",
    "\n",
    "for file in train:\n",
    "    train_samples.append(read_gold(file.replace('.edus', ''), features=True))\n",
    "\n",
    "for file in dev:\n",
    "    dev_samples.append(read_gold(file.replace('.edus', ''), features=True))\n",
    "    \n",
    "for file in test:\n",
    "    test_samples.append(read_gold(file.replace('.edus', ''), features=True))\n",
    "\n",
    "train_samples = pd.concat(train_samples).sample(frac=1, random_state=random_state).reset_index(drop=True)\n",
    "dev_samples = pd.concat(dev_samples).sample(frac=1, random_state=random_state).reset_index(drop=True)\n",
    "test_samples = pd.concat(test_samples).sample(frac=1, random_state=random_state).reset_index(drop=True)"
   ]
  },
  {
   "cell_type": "code",
   "execution_count": null,
   "metadata": {},
   "outputs": [],
   "source": [
    "import os\n",
    "from utils.prepare_sequence import _prepare_sequence\n",
    "\n",
    "\n",
    "def correct_samples(row):\n",
    "    if row.snippet_x[0] in (',', '.', '!', '?'):\n",
    "        row.snippet_x = row.snippet_x[1:].strip()\n",
    "    if row.snippet_y[0] in (',', '.'):\n",
    "        row.snippet_x += row.snippet_y[0]\n",
    "        row.snippet_y = row.snippet_y[1:].strip()\n",
    "    return row\n",
    "\n",
    "def prepare_data(data, max_len=100):\n",
    "    target_map = {\n",
    "        'relation': 'joint',\n",
    "        'antithesis': 'contrast',\n",
    "        'cause': 'cause-effect',\n",
    "        'effect': 'cause-effect',\n",
    "        'conclusion': 'restatement',\n",
    "        'interpretation': 'interpretation-evaluation',\n",
    "        'evaluation': 'interpretation-evaluation',\n",
    "        'motivation': 'condition',\n",
    "    }\n",
    "\n",
    "    relation_map = {\n",
    "        'restatement_SN': 'restatement_NN',\n",
    "        'restatement_NS': 'restatement_NN',\n",
    "        'contrast_SN': 'contrast_NN',\n",
    "        'contrast_NS': 'contrast_NN',\n",
    "        'solutionhood_NS': 'elaboration_NS',\n",
    "        'preparation_NS': 'elaboration_NS',\n",
    "        'concession_SN': 'preparation_SN',\n",
    "        'evaluation_SN': 'preparation_SN',\n",
    "        'elaboration_SN': 'preparation_SN',\n",
    "        'evidence_SN': 'preparation_SN',\n",
    "        'background_SN': 'preparation_SN'\n",
    "    }\n",
    "\n",
    "    data = data[data.tokens_x.map(len) < max_len]\n",
    "    data = data[data.tokens_y.map(len) < max_len]\n",
    "    \n",
    "    data['snippet_x'] = data.tokens_x.map(lambda row: ' '.join(row))\n",
    "    data['snippet_y'] = data.tokens_y.map(lambda row: ' '.join(row))\n",
    "    \n",
    "    data = data.apply(correct_samples, axis=1)\n",
    "    \n",
    "    data = data[data.snippet_x.map(len) > 0]\n",
    "    data = data[data.snippet_y.map(len) > 0]\n",
    "\n",
    "    data['category_id'] = data['category_id'].map(lambda row: row.split('_')[0])\n",
    "    data['category_id'] = data['category_id'].replace([0.0], 'same-unit')\n",
    "    data['order'] = data['order'].replace([0.0], 'NN')\n",
    "    data['category_id'] = data['category_id'].replace(target_map, regex=False)\n",
    "\n",
    "    data['relation'] = data['category_id'].map(lambda row: row) + '_' + data['order']\n",
    "    data['relation'] = data['relation'].replace(relation_map, regex=False)\n",
    "    \n",
    "    data['snippet_x'] = data.snippet_x.map(_prepare_sequence)\n",
    "    data['snippet_y'] = data.snippet_y.map(_prepare_sequence)\n",
    "    \n",
    "    return data\n",
    "\n",
    "\n",
    "train_samples = prepare_data(train_samples)\n",
    "dev_samples = prepare_data(dev_samples)\n",
    "test_samples = prepare_data(test_samples)\n",
    "\n",
    "OUT_PATH = 'data_labeling'\n",
    "! mkdir $OUT_PATH\n",
    "train_samples.to_pickle(os.path.join(OUT_PATH, 'train_samples.pkl'))\n",
    "dev_samples.to_pickle(os.path.join(OUT_PATH, 'dev_samples.pkl'))\n",
    "test_samples.to_pickle(os.path.join(OUT_PATH, 'test_samples.pkl'))"
   ]
  },
  {
   "cell_type": "code",
   "execution_count": null,
   "metadata": {},
   "outputs": [],
   "source": [
    "counts = train_samples['relation'].value_counts(normalize=False).values\n",
    "counts"
   ]
  },
  {
   "cell_type": "code",
   "execution_count": null,
   "metadata": {},
   "outputs": [],
   "source": [
    "train_samples['relation'].value_counts()"
   ]
  }
 ],
 "metadata": {
  "accelerator": "GPU",
  "colab": {
   "collapsed_sections": [
    "XL9qxhZeGdB1",
    "EAiXKY8dnxQs",
    "-WGdV8VGcJUt",
    "WNGYIPB0cPdW",
    "WMD4jEJScaFy",
    "9idVoMLIBytW"
   ],
   "name": "experiments_ml.ipynb",
   "provenance": [],
   "version": "0.3.2"
  },
  "kernelspec": {
   "display_name": "Python 3",
   "language": "python",
   "name": "python3"
  },
  "language_info": {
   "codemirror_mode": {
    "name": "ipython",
    "version": 3
   },
   "file_extension": ".py",
   "mimetype": "text/x-python",
   "name": "python",
   "nbconvert_exporter": "python",
   "pygments_lexer": "ipython3",
   "version": "3.7.4"
  }
 },
 "nbformat": 4,
 "nbformat_minor": 1
}
